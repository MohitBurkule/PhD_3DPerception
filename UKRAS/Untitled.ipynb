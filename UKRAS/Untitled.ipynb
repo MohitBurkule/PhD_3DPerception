{
 "cells": [
  {
   "cell_type": "code",
   "execution_count": 39,
   "metadata": {},
   "outputs": [],
   "source": [
    "import numpy as np\n",
    "import open3d\n",
    "#from open3d import JVisualizer\n",
    "from scipy.special import sph_harm\n",
    "import Sph_hmade\n",
    "import matplotlib.pyplot as plt\n",
    "%matplotlib inline"
   ]
  },
  {
   "cell_type": "code",
   "execution_count": 40,
   "metadata": {},
   "outputs": [],
   "source": [
    "def cart_to_sphe(xyz):\n",
    "    \"\"\"\n",
    "    Converts cartesian coordinates to spherical coordinates\n",
    "    \"\"\"\n",
    "    xy = xyz[:,0]**2 + xyz[:,1]**2\n",
    "    rho = np.sqrt(xy + xyz[:,2]**2)\n",
    "    phi = np.arctan2(np.sqrt(xy), xyz[:,2]) # for elevation angle defined from Z-axis down\n",
    "    #ptsnew[:,4] = np.arctan2(xyz[:,2], np.sqrt(xy)) # for elevation angle defined from XY-plane up\n",
    "    theta = np.arctan2(xyz[:,1], xyz[:,0])\n",
    "    return rho,phi,theta"
   ]
  },
  {
   "cell_type": "code",
   "execution_count": 41,
   "metadata": {},
   "outputs": [],
   "source": [
    "pcd    = open3d.io.read_point_cloud(\"example.ply\")\n",
    "points = np.asarray(pcd.points)\n",
    "pcd    = pcd.voxel_down_sample(voxel_size=0.00001)\n",
    "points = np.asarray(pcd.points)\n",
    "colors = np.asarray(pcd.colors)\n",
    "if(colors.shape[0]==0):\n",
    "    colors = np.ones(points.shape) *  [0.85, 0.7100000000000001, 0.29]"
   ]
  },
  {
   "cell_type": "code",
   "execution_count": 42,
   "metadata": {
    "scrolled": true
   },
   "outputs": [],
   "source": [
    "#save pcd as image without JVisualizer\n",
    "open3d.visualization.draw_geometries([pcd], \"output.png\", width=1920, height=1080, point_show_normal=False)\n"
   ]
  },
  {
   "cell_type": "code",
   "execution_count": 43,
   "metadata": {},
   "outputs": [],
   "source": [
    "points = points - points.mean(0)\n",
    "rho,phi,theta = cart_to_sphe(points)"
   ]
  },
  {
   "cell_type": "markdown",
   "metadata": {},
   "source": [
    "# Unit sphere visualization\n",
    "\n",
    "We can visualize rho on the unit sphere as gray scale colors"
   ]
  },
  {
   "cell_type": "code",
   "execution_count": 44,
   "metadata": {
    "scrolled": true
   },
   "outputs": [],
   "source": [
    "x = np.sin(phi) * np.cos(theta)\n",
    "y = np.sin(phi) * np.sin(theta)\n",
    "z = np.cos(phi)\n",
    "points2 = np.concatenate([np.expand_dims(x,1),np.expand_dims(y,1),np.expand_dims(z,1)],1)\n",
    "\n",
    "pcd2        = open3d.geometry.PointCloud()\n",
    "pcd2.points = open3d.utility.Vector3dVector(points2)\n",
    "rho         = np.expand_dims(rho,1)\n",
    "rho_vis     = np.concatenate([rho,rho,rho],1)\n",
    "rho_vis     = (rho_vis - rho_vis.min(0))/(rho_vis.max(0)-rho_vis.min(0))\n",
    "pcd2.colors = open3d.utility.Vector3dVector(rho_vis)\n",
    "open3d.visualization.draw_geometries([pcd2], \"output2.png\", width=1920, height=1080, point_show_normal=False)"
   ]
  },
  {
   "cell_type": "markdown",
   "metadata": {},
   "source": [
    "Now we can either use the entire object to get the spherical harmonics from or separate it in two. Below we select the two parts for all the theta<=0 and theta >0\n",
    "\n",
    "We also define L which is the maximum degree for which we want to computer the harmonics "
   ]
  },
  {
   "cell_type": "code",
   "execution_count": 45,
   "metadata": {},
   "outputs": [],
   "source": [
    "idxs = [theta<=0,theta>0]\n",
    "L = 10"
   ]
  },
  {
   "cell_type": "markdown",
   "metadata": {},
   "source": [
    "The following function takes as an input the spherical harmonics [order,degree,coefficient], the colors which represent their sum and the polar+azimutal coordinates"
   ]
  },
  {
   "cell_type": "code",
   "execution_count": 46,
   "metadata": {},
   "outputs": [],
   "source": [
    "def compute_sph(harms,colors4,theta2,phi2):\n",
    "    \"\"\"\n",
    "    Computes spherical harmonics\n",
    "\n",
    "    Args:\n",
    "        harms: list of spherical harmonics to compute\n",
    "        colors4: colors of the points\n",
    "        theta2: theta values\n",
    "        phi2: phi values\n",
    "\n",
    "    Returns:\n",
    "        colors4: colors of the points\n",
    "    \"\"\"\n",
    "    for h in harms:\n",
    "        fcolors = sph_harm(h[0],h[1],theta2 , phi2)\n",
    "        fcolors = fcolors.real\n",
    "        fcolors = np.expand_dims(fcolors,1)\n",
    "        fcolors = np.concatenate([fcolors,fcolors,fcolors],1)*h[2]\n",
    "        colors4 = colors4 + fcolors\n",
    "    return colors4"
   ]
  },
  {
   "cell_type": "markdown",
   "metadata": {},
   "source": [
    "The following function basically takes the points spherical coordinates (rho,phi,theta) and the idxs we want to use. Then it computes the forward spherical harmonics transform to obtain the coefficients. We use the coefficients to compute the reconstruction stores in colors2 and we return the spherical harmonics coefficients for the object and the reconstructed object"
   ]
  },
  {
   "cell_type": "code",
   "execution_count": 47,
   "metadata": {},
   "outputs": [],
   "source": [
    "def compute_reconstruction(rho,theta,phi,idx):\n",
    "        \"\"\"\n",
    "        Computes the reconstruction of the object\n",
    "        \n",
    "        Args:\n",
    "            rho: rho values\n",
    "            theta: theta values\n",
    "            phi: phi values\n",
    "            idx: index of the points\n",
    "            \n",
    "        Returns:\n",
    "            coefs: coefficients of the spherical harmonics\n",
    "            colors4: colors of the points\n",
    "            points_new: new points\n",
    "        \"\"\"\n",
    "        rho     =    rho[idx]\n",
    "        theta   =  theta[idx]\n",
    "        phi     =    phi[idx]\n",
    "        x = np.sin(phi) * np.cos(theta)\n",
    "        y = np.sin(phi) * np.sin(theta)\n",
    "        z = np.cos(phi)\n",
    "        points_new = np.concatenate([np.expand_dims(x,1),np.expand_dims(y,1),np.expand_dims(z,1)],1)\n",
    "\n",
    "        colors4 = np.zeros(points_new.shape)\n",
    "        \n",
    "        ## We computer the forward spherical harmonics transformation to infer the coefficient for the object\n",
    "        coefs = Sph_hmade.forwardSHT(L,np.array([theta,phi,rho]),True)\n",
    "      \n",
    "        harms = []\n",
    "        for l in range(0,L+1):\n",
    "            if(l==0):\n",
    "                harms.append([0,0,coefs[0]])\n",
    "            else:\n",
    "                for m in range(0,l+1):\n",
    "                    harms.append([m,l,1.0])\n",
    "        for i in range(0,len(harms)):\n",
    "            harms[i][2] = coefs[i]\n",
    "\n",
    "\n",
    "        colors4 =  compute_sph(harms,colors4,theta,phi)\n",
    "        \n",
    "        return np.abs(coefs),colors4,points_new"
   ]
  },
  {
   "cell_type": "code",
   "execution_count": 48,
   "metadata": {},
   "outputs": [
    {
     "name": "stdout",
     "output_type": "stream",
     "text": [
      "number of coefficients computed for this part :  (66,)\n",
      "number of coefficients computed for this part :  (66,)\n"
     ]
    }
   ],
   "source": [
    "coefs            = []\n",
    "col4             = []\n",
    "reordered_pts    = []\n",
    "reordered_colors = []\n",
    "for i in idxs:\n",
    "        coef,colors4,points_new=compute_reconstruction(rho[:,0],theta,phi,i)\n",
    "        print(\"number of coefficients computed for this part : \",coef.shape)\n",
    "        col4.append(colors4)\n",
    "        coefs.append(coef)\n",
    "        reordered_pts.append   (points_new)\n",
    "        reordered_colors.append(colors[i,:])\n",
    "        \n",
    "col4 = np.concatenate(col4)\n",
    "reordered_pts = np.concatenate(reordered_pts)\n",
    "reordered_colors = np.concatenate(reordered_colors)"
   ]
  },
  {
   "cell_type": "markdown",
   "metadata": {},
   "source": [
    "We can now show the original object (left), unit sphere projected (center) and the one reconstructed using the computed spherical harmonics coefficients (right)"
   ]
  },
  {
   "cell_type": "code",
   "execution_count": 49,
   "metadata": {
    "scrolled": true
   },
   "outputs": [],
   "source": [
    "### unit pts\n",
    "pcd4 = open3d.geometry.PointCloud()\n",
    "pcd4.points = open3d.utility.Vector3dVector(reordered_pts+np.array([1.5,0,0]))\n",
    "pcd4.colors = open3d.utility.Vector3dVector(reordered_colors)\n",
    "##reconstruction\n",
    "pcd5 = open3d.geometry.PointCloud()\n",
    "pcd5.points = open3d.utility.Vector3dVector((reordered_pts*col4)+np.array([3,0,0]))\n",
    "pcd5.colors = open3d.utility.Vector3dVector(reordered_colors)\n",
    "open3d.visualization.draw_geometries([pcd,pcd4,pcd5], \"output3.png\", width=1920, height=1080, point_show_normal=False)"
   ]
  },
  {
   "cell_type": "markdown",
   "metadata": {},
   "source": [
    "Let's now show the coefficient we computed which we used to reconstruct our object"
   ]
  },
  {
   "cell_type": "code",
   "execution_count": 50,
   "metadata": {},
   "outputs": [],
   "source": [
    "coefs = np.array(coefs)\n",
    "length = coefs.shape[1]\n",
    "coefs_reshaped = np.reshape(np.array(coefs),(coefs.shape[0]*coefs.shape[1]))"
   ]
  },
  {
   "cell_type": "code",
   "execution_count": 51,
   "metadata": {},
   "outputs": [
    {
     "data": {
      "text/plain": [
       "<BarContainer object of 132 artists>"
      ]
     },
     "execution_count": 51,
     "metadata": {},
     "output_type": "execute_result"
    },
    {
     "data": {
      "image/png": "[encoded data removed]",
      "text/plain": [
       "<Figure size 640x480 with 1 Axes>"
      ]
     },
     "metadata": {},
     "output_type": "display_data"
    }
   ],
   "source": [
    "plt.bar(np.arange(0,coefs_reshaped.shape[0],1),coefs_reshaped)"
   ]
  },
  {
   "cell_type": "code",
   "execution_count": 52,
   "metadata": {},
   "outputs": [],
   "source": [
    "plt.show()"
   ]
  },
  {
   "cell_type": "code",
   "execution_count": null,
   "metadata": {},
   "outputs": [],
   "source": []
  }
 ],
 "metadata": {
  "kernelspec": {
   "display_name": "Python 3",
   "language": "python",
   "name": "python3"
  },
  "language_info": {
   "codemirror_mode": {
    "name": "ipython",
    "version": 3
   },
   "file_extension": ".py",
   "mimetype": "text/x-python",
   "name": "python",
   "nbconvert_exporter": "python",
   "pygments_lexer": "ipython3",
   "version": "3.8.17"
  }
 },
 "nbformat": 4,
 "nbformat_minor": 2
}
